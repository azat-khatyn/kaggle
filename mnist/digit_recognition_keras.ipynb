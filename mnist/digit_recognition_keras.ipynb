{
 "cells": [
  {
   "cell_type": "markdown",
   "metadata": {},
   "source": [
    "### Digit Recognizer Challenge\n",
    "\n",
    "This notebook contains a solution for the Digit Recognizer Kaggle Challenge.https://www.kaggle.com/c/digit-recognizer\n",
    "\n",
    "#### About the challenge:\n",
    "\n",
    "\n",
    "MNIST (\"Modified National Institute of Standards and Technology\") is the de facto “hello world” dataset of computer vision. Since its release in 1999, this classic dataset of handwritten images has served as the basis for benchmarking classification algorithms. As new machine learning techniques emerge, MNIST remains a reliable resource for researchers and learners alike.\n",
    "\n",
    "In this competition, your goal is to correctly identify digits from a dataset of tens of thousands of handwritten images.\n",
    "\n",
    "\n",
    "#### About this notebook:\n",
    "\n",
    "This notebook will use Keras Sequential Model with five hidden convolutional layers using ReLU activation functions as well as MaxPool and Flatten layers and a SoftMax activation function in the output layer. \n",
    "\n",
    "The model will be trained using ImageDataGenerator module, which will help to augment the data. \n",
    "\n",
    "A simple grid search for hyperparameter tuning will be implemented.\n",
    "\n",
    "The code will be executed in a AWS SageMaker notebook using GPU.\n",
    "\n",
    "#### About the results:\n",
    "\n",
    "The simple appproach presented in this notebook showed a result corresponding to top 12 % of submissions on leaderboard."
   ]
  },
  {
   "cell_type": "code",
   "execution_count": 1,
   "metadata": {},
   "outputs": [
    {
     "name": "stderr",
     "output_type": "stream",
     "text": [
      "Using TensorFlow backend.\n"
     ]
    },
    {
     "name": "stdout",
     "output_type": "stream",
     "text": [
      "WARNING:tensorflow:From /home/ec2-user/anaconda3/envs/tensorflow_p36/lib/python3.6/site-packages/tensorflow_core/__init__.py:1467: The name tf.estimator.inputs is deprecated. Please use tf.compat.v1.estimator.inputs instead.\n",
      "\n"
     ]
    }
   ],
   "source": [
    "import pandas as pd\n",
    "import numpy as np\n",
    "import matplotlib.pyplot as plt\n",
    "import matplotlib.image as mpimg\n",
    "%matplotlib inline\n",
    "\n",
    "np.random.seed(2)\n",
    "\n",
    "from sklearn.model_selection import train_test_split\n",
    "import itertools\n",
    "\n",
    "from keras.utils.np_utils import to_categorical\n",
    "from keras.models import Sequential\n",
    "from keras.layers import Dense, Dropout, Flatten, Conv2D, MaxPool2D\n",
    "from keras.optimizers import RMSprop\n",
    "from keras.preprocessing.image import ImageDataGenerator\n",
    "\n",
    "import itertools"
   ]
  },
  {
   "cell_type": "code",
   "execution_count": 2,
   "metadata": {},
   "outputs": [],
   "source": [
    "train = pd.read_csv('train.csv')\n",
    "test = pd.read_csv('test.csv')"
   ]
  },
  {
   "cell_type": "code",
   "execution_count": 3,
   "metadata": {},
   "outputs": [],
   "source": [
    "Y_train = train[\"label\"]\n",
    "X_train = train.drop(labels = [\"label\"],axis = 1) "
   ]
  },
  {
   "cell_type": "code",
   "execution_count": 4,
   "metadata": {},
   "outputs": [],
   "source": [
    "X_train = X_train / 255.0\n",
    "test = test / 255.0"
   ]
  },
  {
   "cell_type": "code",
   "execution_count": 5,
   "metadata": {},
   "outputs": [],
   "source": [
    "X_train = X_train.values.reshape(-1,28,28,1)\n",
    "test = test.values.reshape(-1,28,28,1)"
   ]
  },
  {
   "cell_type": "code",
   "execution_count": 6,
   "metadata": {},
   "outputs": [],
   "source": [
    "Y_train = to_categorical(Y_train, num_classes = 10)"
   ]
  },
  {
   "cell_type": "code",
   "execution_count": 7,
   "metadata": {},
   "outputs": [],
   "source": [
    "random_seed = 2"
   ]
  },
  {
   "cell_type": "code",
   "execution_count": 8,
   "metadata": {},
   "outputs": [],
   "source": [
    "X_train, X_val, Y_train, Y_val = train_test_split(X_train, Y_train, test_size = 0.1, random_state=random_seed)"
   ]
  },
  {
   "cell_type": "code",
   "execution_count": 9,
   "metadata": {},
   "outputs": [
    {
     "data": {
      "image/png": "[encoded data removed]",
      "text/plain": [
       "<Figure size 432x288 with 1 Axes>"
      ]
     },
     "metadata": {},
     "output_type": "display_data"
    }
   ],
   "source": [
    "g = plt.imshow(X_train[0][:,:,0])"
   ]
  },
  {
   "cell_type": "code",
   "execution_count": 10,
   "metadata": {},
   "outputs": [],
   "source": [
    "def prepare_model():\n",
    "    model = Sequential()\n",
    "\n",
    "    model.add(Conv2D(filters = 32, kernel_size = (5,5),padding = 'Same', \n",
    "                     activation ='relu', input_shape = (28,28,1)))\n",
    "    model.add(Conv2D(filters = 32, kernel_size = (5,5),padding = 'Same', \n",
    "                     activation ='relu'))\n",
    "    model.add(MaxPool2D(pool_size=(2,2)))\n",
    "    model.add(Dropout(0.25))\n",
    "\n",
    "\n",
    "    model.add(Conv2D(filters = 64, kernel_size = (3,3),padding = 'Same', \n",
    "                     activation ='relu'))\n",
    "    model.add(Conv2D(filters = 64, kernel_size = (3,3),padding = 'Same', \n",
    "                     activation ='relu'))\n",
    "    model.add(MaxPool2D(pool_size=(2,2), strides=(2,2)))\n",
    "    model.add(Dropout(0.25))\n",
    "\n",
    "\n",
    "    model.add(Flatten())\n",
    "    model.add(Dense(256, activation = \"relu\"))\n",
    "    model.add(Dropout(0.5))\n",
    "    model.add(Dense(10, activation = \"softmax\"))\n",
    "    \n",
    "    return model"
   ]
  },
  {
   "cell_type": "code",
   "execution_count": 19,
   "metadata": {},
   "outputs": [],
   "source": [
    "def train_model(X_train, Y_train, X_val, Y_val, optimizer, loss, epochs, batch_size):\n",
    "    \n",
    "    model = prepare_model()\n",
    "    \n",
    "    model.compile(optimizer = optimizer ,loss = loss, metrics=[\"accuracy\"])\n",
    "       \n",
    "    datagen = ImageDataGenerator(\n",
    "        featurewise_center=False,  \n",
    "        samplewise_center=False,  \n",
    "        featurewise_std_normalization=False,  \n",
    "        samplewise_std_normalization=False, \n",
    "        zca_whitening=False, \n",
    "        rotation_range=10, \n",
    "        zoom_range = 0.1,\n",
    "        width_shift_range=0.1,  \n",
    "        height_shift_range=0.1, \n",
    "        horizontal_flip=False,  \n",
    "        vertical_flip=False)\n",
    "\n",
    "    datagen.fit(X_train)\n",
    "    \n",
    "    history = model.fit_generator(datagen.flow(X_train,Y_train, batch_size=batch_size),\n",
    "                              epochs = epochs, validation_data = (X_val,Y_val),\n",
    "                              verbose = 2, steps_per_epoch=X_train.shape[0] // batch_size)\n",
    "\n",
    "    return model, history.history['val_acc'][epochs-1]\n",
    "    "
   ]
  },
  {
   "cell_type": "code",
   "execution_count": 20,
   "metadata": {},
   "outputs": [],
   "source": [
    "def make_submission(predictions):\n",
    "    predictions = np.argmax(predictions,axis = 1)\n",
    "    predictions = pd.Series(predictions,name=\"Label\")\n",
    "    submission = pd.concat([pd.Series(range(1,28001),name = \"ImageId\"),predictions],axis = 1)\n",
    "    submission.to_csv(\"submission_cnn.csv\",index=False)"
   ]
  },
  {
   "cell_type": "code",
   "execution_count": 27,
   "metadata": {},
   "outputs": [],
   "source": [
    "optimizers = ['SGD', 'RMSProp', 'Adagrad']\n",
    "losses = ['categorical_crossentropy', 'categorical_hinge', 'mean_squared_error']\n",
    "batch_sizes = [32, 64]\n",
    "epochs = 10"
   ]
  },
  {
   "cell_type": "code",
   "execution_count": null,
   "metadata": {},
   "outputs": [],
   "source": [
    "best_model = None\n",
    "best_score = 0\n",
    "best_optimizer = None\n",
    "best_loss = 0\n",
    "best_epochs = 0\n",
    "best_batch_size = 0\n",
    "hyperparameters = list(itertools.product(optimizers,losses, batch_sizes))\n",
    "i = 0\n",
    "for optimizer, loss, batch_size in hyperparameters:\n",
    "    i += 1\n",
    "    print('====================================================')\n",
    "    print('=================Iteration %2d of %d=================' % (i , len(hyperparameters)))\n",
    "    print('=================Training with optimizer=%s, loss=%s, epochs=%d, batch_size=%d================' % (optimizer, loss, epochs, batch_size))\n",
    "    print('====================================================')\n",
    "    model, score = train_model(X_train, Y_train, X_val, Y_val, optimizer, loss, epochs, batch_size)\n",
    "    if score > best_score:\n",
    "        best_score = score\n",
    "        best_model = model\n",
    "        best_optimizer = optimizer\n",
    "        best_loss = loss\n",
    "        best_epochs = epochs\n",
    "        best_batch_size = batch_size\n",
    "\n",
    "print('=======================================')\n",
    "print('=================Done!=================')\n",
    "print('Best model: optimizer=%s, loss=%s, epochs=%d, batch_size=%d, val_acc=%f' % (best_optimizer, best_loss, best_epochs, best_batch_size, best_score))"
   ]
  },
  {
   "cell_type": "code",
   "execution_count": 31,
   "metadata": {},
   "outputs": [
    {
     "name": "stdout",
     "output_type": "stream",
     "text": [
      "====================================================\n",
      "===============Training with optimizer=RMSProp, loss=categorical_crossentropy, epochs=20, batch_size=64==============\n",
      "====================================================\n",
      "Epoch 1/20\n",
      " - 16s - loss: 0.3738 - acc: 0.8797 - val_loss: 0.0664 - val_acc: 0.9800\n",
      "Epoch 2/20\n",
      " - 11s - loss: 0.1194 - acc: 0.9650 - val_loss: 0.0535 - val_acc: 0.9850\n",
      "Epoch 3/20\n",
      " - 11s - loss: 0.0907 - acc: 0.9732 - val_loss: 0.0307 - val_acc: 0.9912\n",
      "Epoch 4/20\n",
      " - 12s - loss: 0.0832 - acc: 0.9762 - val_loss: 0.0356 - val_acc: 0.9876\n",
      "Epoch 5/20\n",
      " - 11s - loss: 0.0771 - acc: 0.9785 - val_loss: 0.0256 - val_acc: 0.9929\n",
      "Epoch 6/20\n",
      " - 11s - loss: 0.0717 - acc: 0.9796 - val_loss: 0.0412 - val_acc: 0.9883\n",
      "Epoch 7/20\n",
      " - 11s - loss: 0.0683 - acc: 0.9813 - val_loss: 0.0271 - val_acc: 0.9912\n",
      "Epoch 8/20\n",
      " - 11s - loss: 0.0679 - acc: 0.9808 - val_loss: 0.0278 - val_acc: 0.9921\n",
      "Epoch 9/20\n",
      " - 11s - loss: 0.0700 - acc: 0.9799 - val_loss: 0.0426 - val_acc: 0.9886\n",
      "Epoch 10/20\n",
      " - 11s - loss: 0.0691 - acc: 0.9819 - val_loss: 0.0299 - val_acc: 0.9921\n",
      "Epoch 11/20\n",
      " - 11s - loss: 0.0702 - acc: 0.9813 - val_loss: 0.0290 - val_acc: 0.9905\n",
      "Epoch 12/20\n",
      " - 11s - loss: 0.0716 - acc: 0.9808 - val_loss: 0.0272 - val_acc: 0.9912\n",
      "Epoch 13/20\n",
      " - 11s - loss: 0.0703 - acc: 0.9817 - val_loss: 0.0287 - val_acc: 0.9933\n",
      "Epoch 14/20\n",
      " - 11s - loss: 0.0739 - acc: 0.9814 - val_loss: 0.0349 - val_acc: 0.9895\n",
      "Epoch 15/20\n",
      " - 11s - loss: 0.0754 - acc: 0.9803 - val_loss: 0.0384 - val_acc: 0.9879\n",
      "Epoch 16/20\n",
      " - 11s - loss: 0.0724 - acc: 0.9816 - val_loss: 0.0584 - val_acc: 0.9864\n",
      "Epoch 17/20\n",
      " - 11s - loss: 0.0773 - acc: 0.9803 - val_loss: 0.0580 - val_acc: 0.9914\n",
      "Epoch 18/20\n",
      " - 11s - loss: 0.0775 - acc: 0.9810 - val_loss: 0.0434 - val_acc: 0.9917\n",
      "Epoch 19/20\n",
      " - 12s - loss: 0.0809 - acc: 0.9807 - val_loss: 0.0460 - val_acc: 0.9910\n",
      "Epoch 20/20\n",
      " - 11s - loss: 0.0835 - acc: 0.9797 - val_loss: 0.0392 - val_acc: 0.9900\n",
      "Best model retrained: optimizer=RMSProp, loss=categorical_crossentropy, epochs=20, batch_size=64, val_acc=0.990000\n"
     ]
    }
   ],
   "source": [
    "epochs = 20\n",
    "print('====================================================')\n",
    "print('===============Training with optimizer=%s, loss=%s, epochs=%d, batch_size=%d==============' % (best_optimizer, best_loss, epochs, best_batch_size))\n",
    "print('====================================================')\n",
    "model, score = train_model(X_train, Y_train, X_val, Y_val, best_optimizer, best_loss, epochs, best_batch_size)\n",
    "print('Best model retrained: optimizer=%s, loss=%s, epochs=%d, batch_size=%d, val_acc=%f' % (best_optimizer, best_loss, epochs, best_batch_size, score))"
   ]
  },
  {
   "cell_type": "code",
   "execution_count": 33,
   "metadata": {},
   "outputs": [],
   "source": [
    "predictions = model.predict(test)"
   ]
  },
  {
   "cell_type": "code",
   "execution_count": 34,
   "metadata": {},
   "outputs": [],
   "source": [
    "make_submission(predictions)"
   ]
  }
 ],
 "metadata": {
  "kernelspec": {
   "display_name": "Python 3",
   "language": "python",
   "name": "python3"
  },
  "language_info": {
   "codemirror_mode": {
    "name": "ipython",
    "version": 3
   },
   "file_extension": ".py",
   "mimetype": "text/x-python",
   "name": "python",
   "nbconvert_exporter": "python",
   "pygments_lexer": "ipython3",
   "version": "3.8.0"
  }
 },
 "nbformat": 4,
 "nbformat_minor": 4
}
