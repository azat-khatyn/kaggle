{
 "cells": [
  {
   "cell_type": "code",
   "execution_count": 1,
   "metadata": {},
   "outputs": [
    {
     "name": "stderr",
     "output_type": "stream",
     "text": [
      "Using TensorFlow backend.\n"
     ]
    },
    {
     "name": "stdout",
     "output_type": "stream",
     "text": [
      "WARNING:tensorflow:From /home/ec2-user/anaconda3/envs/tensorflow_p36/lib/python3.6/site-packages/tensorflow_core/__init__.py:1467: The name tf.estimator.inputs is deprecated. Please use tf.compat.v1.estimator.inputs instead.\n",
      "\n"
     ]
    }
   ],
   "source": [
    "from IPython.display import Image\n",
    "from keras.preprocessing import image\n",
    "from keras import optimizers\n",
    "from keras import layers,models\n",
    "from keras.applications.imagenet_utils import preprocess_input\n",
    "import matplotlib.pyplot as plt\n",
    "from keras.preprocessing.image import ImageDataGenerator\n",
    "\n",
    "import numpy as np\n",
    "import pandas as pd"
   ]
  },
  {
   "cell_type": "code",
   "execution_count": 42,
   "metadata": {},
   "outputs": [],
   "source": [
    "train_dir = \"train_data\"\n",
    "test_dir = \"test_data\"\n",
    "train=pd.read_csv('train_cactus.csv')"
   ]
  },
  {
   "cell_type": "code",
   "execution_count": 43,
   "metadata": {},
   "outputs": [
    {
     "data": {
      "text/html": [
       "<div>\n",
       "<style scoped>\n",
       "    .dataframe tbody tr th:only-of-type {\n",
       "        vertical-align: middle;\n",
       "    }\n",
       "\n",
       "    .dataframe tbody tr th {\n",
       "        vertical-align: top;\n",
       "    }\n",
       "\n",
       "    .dataframe thead th {\n",
       "        text-align: right;\n",
       "    }\n",
       "</style>\n",
       "<table border=\"1\" class=\"dataframe\">\n",
       "  <thead>\n",
       "    <tr style=\"text-align: right;\">\n",
       "      <th></th>\n",
       "      <th>id</th>\n",
       "      <th>has_cactus</th>\n",
       "    </tr>\n",
       "  </thead>\n",
       "  <tbody>\n",
       "    <tr>\n",
       "      <th>0</th>\n",
       "      <td>0004be2cfeaba1c0361d39e2b000257b.jpg</td>\n",
       "      <td>1</td>\n",
       "    </tr>\n",
       "    <tr>\n",
       "      <th>1</th>\n",
       "      <td>000c8a36845c0208e833c79c1bffedd1.jpg</td>\n",
       "      <td>1</td>\n",
       "    </tr>\n",
       "    <tr>\n",
       "      <th>2</th>\n",
       "      <td>000d1e9a533f62e55c289303b072733d.jpg</td>\n",
       "      <td>1</td>\n",
       "    </tr>\n",
       "    <tr>\n",
       "      <th>3</th>\n",
       "      <td>0011485b40695e9138e92d0b3fb55128.jpg</td>\n",
       "      <td>1</td>\n",
       "    </tr>\n",
       "    <tr>\n",
       "      <th>4</th>\n",
       "      <td>0014d7a11e90b62848904c1418fc8cf2.jpg</td>\n",
       "      <td>1</td>\n",
       "    </tr>\n",
       "  </tbody>\n",
       "</table>\n",
       "</div>"
      ],
      "text/plain": [
       "                                     id  has_cactus\n",
       "0  0004be2cfeaba1c0361d39e2b000257b.jpg           1\n",
       "1  000c8a36845c0208e833c79c1bffedd1.jpg           1\n",
       "2  000d1e9a533f62e55c289303b072733d.jpg           1\n",
       "3  0011485b40695e9138e92d0b3fb55128.jpg           1\n",
       "4  0014d7a11e90b62848904c1418fc8cf2.jpg           1"
      ]
     },
     "execution_count": 43,
     "metadata": {},
     "output_type": "execute_result"
    }
   ],
   "source": [
    "train.head(5)"
   ]
  },
  {
   "cell_type": "code",
   "execution_count": 44,
   "metadata": {},
   "outputs": [],
   "source": [
    "train['has_cactus'] =train['has_cactus'].astype(str)"
   ]
  },
  {
   "cell_type": "code",
   "execution_count": 45,
   "metadata": {},
   "outputs": [
    {
     "data": {
      "text/plain": [
       "(17500, 2)"
      ]
     },
     "execution_count": 45,
     "metadata": {},
     "output_type": "execute_result"
    }
   ],
   "source": [
    "train.shape"
   ]
  },
  {
   "cell_type": "code",
   "execution_count": 47,
   "metadata": {},
   "outputs": [],
   "source": [
    "datagen=ImageDataGenerator(rescale=1./255)\n",
    "batch_size=50"
   ]
  },
  {
   "cell_type": "code",
   "execution_count": 48,
   "metadata": {},
   "outputs": [
    {
     "name": "stdout",
     "output_type": "stream",
     "text": [
      "Found 15001 validated image filenames belonging to 2 classes.\n",
      "Found 2500 validated image filenames belonging to 2 classes.\n",
      "Found 4000 images belonging to 1 classes.\n"
     ]
    }
   ],
   "source": [
    "train_generator=datagen.flow_from_dataframe(dataframe=train[:15001],directory=train_dir,x_col='id',\n",
    "                                            y_col='has_cactus',class_mode='binary',batch_size=batch_size,\n",
    "                                            target_size=(150,150))\n",
    "\n",
    "\n",
    "validation_generator=datagen.flow_from_dataframe(dataframe=train[15000:],directory=train_dir,x_col='id',\n",
    "                                                y_col='has_cactus',class_mode='binary',batch_size=batch_size,\n",
    "                                                target_size=(150,150))\n",
    "\n",
    "\n",
    "test_generator = datagen.flow_from_directory( directory=test_dir, target_size=(150,150), batch_size=batch_size,\n",
    "                                             class_mode=None, shuffle=False)"
   ]
  },
  {
   "cell_type": "code",
   "execution_count": 37,
   "metadata": {},
   "outputs": [],
   "source": [
    "epochs = 15"
   ]
  },
  {
   "cell_type": "code",
   "execution_count": 49,
   "metadata": {},
   "outputs": [
    {
     "name": "stdout",
     "output_type": "stream",
     "text": [
      "Device mapping:\n",
      "/job:localhost/replica:0/task:0/device:XLA_CPU:0 -> device: XLA_CPU device\n",
      "/job:localhost/replica:0/task:0/device:XLA_GPU:0 -> device: XLA_GPU device\n",
      "/job:localhost/replica:0/task:0/device:GPU:0 -> device: 0, name: Tesla K80, pci bus id: 0000:00:1e.0, compute capability: 3.7\n",
      "\n",
      "Epoch 1/15\n",
      "100/100 [==============================] - 10s 100ms/step - loss: 1.0947 - acc: 0.7934 - val_loss: 0.2850 - val_acc: 0.8908\n",
      "Epoch 2/15\n",
      "100/100 [==============================] - 9s 91ms/step - loss: 0.2412 - acc: 0.9088 - val_loss: 0.1659 - val_acc: 0.9384\n",
      "Epoch 3/15\n",
      "100/100 [==============================] - 9s 91ms/step - loss: 0.1613 - acc: 0.9398 - val_loss: 0.2153 - val_acc: 0.9328\n",
      "Epoch 4/15\n",
      "100/100 [==============================] - 9s 90ms/step - loss: 0.1310 - acc: 0.9482 - val_loss: 0.1660 - val_acc: 0.9468\n",
      "Epoch 5/15\n",
      "100/100 [==============================] - 9s 91ms/step - loss: 0.1224 - acc: 0.9526 - val_loss: 0.0930 - val_acc: 0.9644\n",
      "Epoch 6/15\n",
      "100/100 [==============================] - 9s 91ms/step - loss: 0.1352 - acc: 0.9506 - val_loss: 0.1029 - val_acc: 0.9636\n",
      "Epoch 7/15\n",
      "100/100 [==============================] - 9s 91ms/step - loss: 0.0965 - acc: 0.9670 - val_loss: 0.0912 - val_acc: 0.9712\n",
      "Epoch 8/15\n",
      "100/100 [==============================] - 9s 91ms/step - loss: 0.0922 - acc: 0.9660 - val_loss: 0.0822 - val_acc: 0.9708\n",
      "Epoch 9/15\n",
      "100/100 [==============================] - 9s 91ms/step - loss: 0.0884 - acc: 0.9680 - val_loss: 0.0911 - val_acc: 0.9656\n",
      "Epoch 10/15\n",
      "100/100 [==============================] - 9s 91ms/step - loss: 0.0816 - acc: 0.9740 - val_loss: 0.0662 - val_acc: 0.9828\n",
      "Epoch 11/15\n",
      "100/100 [==============================] - 9s 91ms/step - loss: 0.0701 - acc: 0.9748 - val_loss: 0.0810 - val_acc: 0.9720\n",
      "Epoch 12/15\n",
      "100/100 [==============================] - 9s 91ms/step - loss: 0.0650 - acc: 0.9782 - val_loss: 0.1180 - val_acc: 0.9700\n",
      "Epoch 13/15\n",
      "100/100 [==============================] - 9s 90ms/step - loss: 0.0567 - acc: 0.9824 - val_loss: 0.0670 - val_acc: 0.9824\n",
      "Epoch 14/15\n",
      "100/100 [==============================] - 9s 91ms/step - loss: 0.0708 - acc: 0.9742 - val_loss: 0.0599 - val_acc: 0.9780\n",
      "Epoch 15/15\n",
      "100/100 [==============================] - 9s 91ms/step - loss: 0.0587 - acc: 0.9818 - val_loss: 0.0560 - val_acc: 0.9836\n"
     ]
    }
   ],
   "source": [
    "model=models.Sequential()\n",
    "model.add(layers.Conv2D(32,(3,3),activation='relu',input_shape=(150,150,3)))\n",
    "model.add(layers.MaxPool2D((2,2)))\n",
    "model.add(layers.Conv2D(64,(3,3),activation='relu',input_shape=(150,150,3)))\n",
    "model.add(layers.MaxPool2D((2,2)))\n",
    "model.add(layers.Conv2D(128,(3,3),activation='relu',input_shape=(150,150,3)))\n",
    "model.add(layers.MaxPool2D((2,2)))\n",
    "model.add(layers.Conv2D(128,(3,3),activation='relu',input_shape=(150,150,3)))\n",
    "model.add(layers.MaxPool2D((2,2)))\n",
    "model.add(layers.Flatten())\n",
    "model.add(layers.Dense(512,activation='relu'))\n",
    "model.add(layers.Dense(1,activation='sigmoid'))\n",
    "    \n",
    "model.compile(loss='binary_crossentropy',optimizer=optimizers.rmsprop(),metrics=['acc'])\n",
    "    \n",
    "history =model.fit_generator(train_generator,steps_per_epoch=100,epochs=epochs,validation_data=validation_generator,validation_steps=50)"
   ]
  },
  {
   "cell_type": "code",
   "execution_count": 28,
   "metadata": {},
   "outputs": [
    {
     "data": {
      "text/plain": [
       "<matplotlib.legend.Legend at 0x7f958b748940>"
      ]
     },
     "execution_count": 28,
     "metadata": {},
     "output_type": "execute_result"
    },
    {
     "data": {
      "image/png": "[encoded data removed]",
      "text/plain": [
       "<Figure size 432x288 with 1 Axes>"
      ]
     },
     "metadata": {},
     "output_type": "display_data"
    }
   ],
   "source": [
    "acc=history.history['acc'] \n",
    "epochs_=range(0,epochs)    \n",
    "plt.plot(epochs_,acc,label='training accuracy')\n",
    "plt.xlabel('no of epochs')\n",
    "plt.ylabel('accuracy')\n",
    "\n",
    "acc_val=history.history['val_acc']\n",
    "plt.scatter(epochs_,acc_val,label=\"validation accuracy\")\n",
    "plt.title(\"no of epochs vs accuracy\")\n",
    "plt.legend()"
   ]
  },
  {
   "cell_type": "code",
   "execution_count": 29,
   "metadata": {},
   "outputs": [
    {
     "data": {
      "text/plain": [
       "<matplotlib.legend.Legend at 0x7f958af33908>"
      ]
     },
     "execution_count": 29,
     "metadata": {},
     "output_type": "execute_result"
    },
    {
     "data": {
      "image/png": "[encoded data removed]",
      "text/plain": [
       "<Figure size 432x288 with 1 Axes>"
      ]
     },
     "metadata": {},
     "output_type": "display_data"
    }
   ],
   "source": [
    "acc=history.history['loss']  \n",
    "epochs_=range(0,epochs)\n",
    "plt.plot(epochs_,acc,label='training loss')\n",
    "plt.xlabel('No of epochs')\n",
    "plt.ylabel('loss')\n",
    "\n",
    "acc_val=history.history['val_loss']\n",
    "plt.scatter(epochs_,acc_val,label=\"validation loss\")\n",
    "plt.title('no of epochs vs loss')\n",
    "plt.legend()"
   ]
  },
  {
   "cell_type": "code",
   "execution_count": null,
   "metadata": {},
   "outputs": [],
   "source": [
    "model.predict_generator(test_generator, steps = 20)"
   ]
  }
 ],
 "metadata": {
  "kernelspec": {
   "display_name": "Python 3",
   "language": "python",
   "name": "python3"
  },
  "language_info": {
   "codemirror_mode": {
    "name": "ipython",
    "version": 3
   },
   "file_extension": ".py",
   "mimetype": "text/x-python",
   "name": "python",
   "nbconvert_exporter": "python",
   "pygments_lexer": "ipython3",
   "version": "3.8.0"
  }
 },
 "nbformat": 4,
 "nbformat_minor": 2
}
